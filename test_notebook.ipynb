{
 "cells": [
  {
   "cell_type": "code",
   "execution_count": null,
   "metadata": {
    "pycharm": {
     "name": "#%%\n"
    }
   },
   "outputs": [],
   "source": [
    "prova = Audio(\"/mnt/f/PhD/_Segments/44kHz/15s/pan_audio_160224_ult1_group5_0011.wav\", 44100)\n",
    "signal_au, sr = prova.load(normalize=False)\n",
    "plt.plot(signal_au)"
   ]
  },
  {
   "cell_type": "code",
   "execution_count": null,
   "metadata": {
    "pycharm": {
     "name": "#%%\n"
    }
   },
   "outputs": [],
   "source": [
    "import pandas as pd\n",
    "\n",
    "df = pd.DataFrame(mid.transpose(), columns=mid_names)\n",
    "df"
   ]
  },
  {
   "cell_type": "code",
   "execution_count": null,
   "metadata": {
    "pycharm": {
     "name": "#%%\n"
    }
   },
   "outputs": [],
   "source": [
    "from pyAudioAnalysis import audioBasicIO\n",
    "\n",
    "[sig, x] = audioBasicIO.read_audio_file(\"/mnt/f/PhD/_Segments/44kHz/15s/pan_audio_160224_ult1_group5_0011.wav\")\n",
    "x"
   ]
  },
  {
   "cell_type": "code",
   "execution_count": 4,
   "metadata": {
    "pycharm": {
     "name": "#%%\n"
    }
   },
   "outputs": [
    {
     "data": {
      "text/html": [
       "<div>\n",
       "<style scoped>\n",
       "    .dataframe tbody tr th:only-of-type {\n",
       "        vertical-align: middle;\n",
       "    }\n",
       "\n",
       "    .dataframe tbody tr th {\n",
       "        vertical-align: top;\n",
       "    }\n",
       "\n",
       "    .dataframe thead th {\n",
       "        text-align: right;\n",
       "    }\n",
       "</style>\n",
       "<table border=\"1\" class=\"dataframe\">\n",
       "  <thead>\n",
       "    <tr style=\"text-align: right;\">\n",
       "      <th></th>\n",
       "      <th>zcr_mean</th>\n",
       "      <th>energy_mean</th>\n",
       "      <th>energy_entropy_mean</th>\n",
       "      <th>spectral_centroid_mean</th>\n",
       "      <th>spectral_spread_mean</th>\n",
       "      <th>spectral_entropy_mean</th>\n",
       "      <th>spectral_flux_mean</th>\n",
       "      <th>spectral_rolloff_mean</th>\n",
       "      <th>mfcc_1_mean</th>\n",
       "      <th>mfcc_2_mean</th>\n",
       "      <th>...</th>\n",
       "      <th>delta chroma_4_kurtosis</th>\n",
       "      <th>delta chroma_5_kurtosis</th>\n",
       "      <th>delta chroma_6_kurtosis</th>\n",
       "      <th>delta chroma_7_kurtosis</th>\n",
       "      <th>delta chroma_8_kurtosis</th>\n",
       "      <th>delta chroma_9_kurtosis</th>\n",
       "      <th>delta chroma_10_kurtosis</th>\n",
       "      <th>delta chroma_11_kurtosis</th>\n",
       "      <th>delta chroma_12_kurtosis</th>\n",
       "      <th>delta chroma_std_kurtosis</th>\n",
       "    </tr>\n",
       "  </thead>\n",
       "  <tbody>\n",
       "    <tr>\n",
       "      <th>0</th>\n",
       "      <td>0.063968</td>\n",
       "      <td>0.004591</td>\n",
       "      <td>3.163498</td>\n",
       "      <td>0.132331</td>\n",
       "      <td>0.162972</td>\n",
       "      <td>0.47525</td>\n",
       "      <td>0.002684</td>\n",
       "      <td>0.0954</td>\n",
       "      <td>-26.163431</td>\n",
       "      <td>1.658127</td>\n",
       "      <td>...</td>\n",
       "      <td>4.641774</td>\n",
       "      <td>3.644048</td>\n",
       "      <td>4.554538</td>\n",
       "      <td>2.180166</td>\n",
       "      <td>5.819222</td>\n",
       "      <td>2.854223</td>\n",
       "      <td>2.923262</td>\n",
       "      <td>2.981489</td>\n",
       "      <td>28.500135</td>\n",
       "      <td>1.168233</td>\n",
       "    </tr>\n",
       "    <tr>\n",
       "      <th>1</th>\n",
       "      <td>0.052666</td>\n",
       "      <td>0.001623</td>\n",
       "      <td>3.189023</td>\n",
       "      <td>0.125297</td>\n",
       "      <td>0.169571</td>\n",
       "      <td>0.290566</td>\n",
       "      <td>0.003472</td>\n",
       "      <td>0.065099</td>\n",
       "      <td>-27.726184</td>\n",
       "      <td>2.122959</td>\n",
       "      <td>...</td>\n",
       "      <td>5.342299</td>\n",
       "      <td>8.309539</td>\n",
       "      <td>10.318567</td>\n",
       "      <td>1.524412</td>\n",
       "      <td>9.917951</td>\n",
       "      <td>34.599845</td>\n",
       "      <td>7.359853</td>\n",
       "      <td>13.674627</td>\n",
       "      <td>4.398547</td>\n",
       "      <td>0.088872</td>\n",
       "    </tr>\n",
       "    <tr>\n",
       "      <th>2</th>\n",
       "      <td>0.045235</td>\n",
       "      <td>0.012054</td>\n",
       "      <td>3.165104</td>\n",
       "      <td>0.109706</td>\n",
       "      <td>0.155222</td>\n",
       "      <td>0.235214</td>\n",
       "      <td>0.004216</td>\n",
       "      <td>0.060533</td>\n",
       "      <td>-25.859031</td>\n",
       "      <td>2.368291</td>\n",
       "      <td>...</td>\n",
       "      <td>6.946889</td>\n",
       "      <td>7.834902</td>\n",
       "      <td>5.541253</td>\n",
       "      <td>1.071198</td>\n",
       "      <td>15.13779</td>\n",
       "      <td>3.053349</td>\n",
       "      <td>2.729062</td>\n",
       "      <td>2.993538</td>\n",
       "      <td>17.431909</td>\n",
       "      <td>0.3235</td>\n",
       "    </tr>\n",
       "  </tbody>\n",
       "</table>\n",
       "<p>3 rows × 340 columns</p>\n",
       "</div>"
      ],
      "text/plain": [
       "   zcr_mean energy_mean energy_entropy_mean spectral_centroid_mean  \\\n",
       "0  0.063968    0.004591            3.163498               0.132331   \n",
       "1  0.052666    0.001623            3.189023               0.125297   \n",
       "2  0.045235    0.012054            3.165104               0.109706   \n",
       "\n",
       "  spectral_spread_mean spectral_entropy_mean spectral_flux_mean  \\\n",
       "0             0.162972               0.47525           0.002684   \n",
       "1             0.169571              0.290566           0.003472   \n",
       "2             0.155222              0.235214           0.004216   \n",
       "\n",
       "  spectral_rolloff_mean mfcc_1_mean mfcc_2_mean  ... delta chroma_4_kurtosis  \\\n",
       "0                0.0954  -26.163431    1.658127  ...                4.641774   \n",
       "1              0.065099  -27.726184    2.122959  ...                5.342299   \n",
       "2              0.060533  -25.859031    2.368291  ...                6.946889   \n",
       "\n",
       "  delta chroma_5_kurtosis delta chroma_6_kurtosis delta chroma_7_kurtosis  \\\n",
       "0                3.644048                4.554538                2.180166   \n",
       "1                8.309539               10.318567                1.524412   \n",
       "2                7.834902                5.541253                1.071198   \n",
       "\n",
       "  delta chroma_8_kurtosis delta chroma_9_kurtosis delta chroma_10_kurtosis  \\\n",
       "0                5.819222                2.854223                 2.923262   \n",
       "1                9.917951               34.599845                 7.359853   \n",
       "2                15.13779                3.053349                 2.729062   \n",
       "\n",
       "  delta chroma_11_kurtosis delta chroma_12_kurtosis delta chroma_std_kurtosis  \n",
       "0                 2.981489                28.500135                  1.168233  \n",
       "1                13.674627                 4.398547                  0.088872  \n",
       "2                 2.993538                17.431909                    0.3235  \n",
       "\n",
       "[3 rows x 340 columns]"
      ]
     },
     "execution_count": 4,
     "metadata": {},
     "output_type": "execute_result"
    }
   ],
   "source": [
    "mid, short, mid_names = MidTermFeatures.mid_feature_extraction(x, 44100, 5.0*44100, 5.0*44100, 0.050*44100, 0.025*44100)\n",
    "df = pd.DataFrame(mid.transpose(), columns=mid_names)\n",
    "df"
   ]
  },
  {
   "cell_type": "code",
   "execution_count": 90,
   "metadata": {
    "pycharm": {
     "name": "#%%\n"
    }
   },
   "outputs": [],
   "source": [
    "from speechbrain.pretrained import VAD\n",
    "\n",
    "VAD = VAD.from_hparams(\n",
    "    source=\"speechbrain/vad-crdnn-libriparty\",\n",
    "    savedir=\"/mnt/c/Users/nicor/PycharmProjects/AudioAnalysis/tmpdir\"\n",
    ")"
   ]
  },
  {
   "cell_type": "code",
   "execution_count": 91,
   "metadata": {
    "pycharm": {
     "name": "#%%\n"
    }
   },
   "outputs": [],
   "source": [
    "import librosa as lb\n",
    "\n",
    "\n",
    "boundaries = VAD.get_speech_segments(\"/mnt/e/Nicola/16kKz/15s/IB4001.Mix-Headset_026.wav\", large_chunk_size=5, small_chunk_size=2, \n",
    "overlap_small_chunk=True, apply_energy_VAD=True, double_check=True, en_activation_th=0.23, en_deactivation_th=0.20, close_th=0.25, len_th=0.5)"
   ]
  },
  {
   "cell_type": "code",
   "execution_count": 92,
   "metadata": {
    "pycharm": {
     "name": "#%%\n"
    }
   },
   "outputs": [
    {
     "data": {
      "text/plain": [
       "tensor([[ 0.0000,  1.5000],\n",
       "        [ 1.8900, 11.0800],\n",
       "        [12.3500, 14.9700]])"
      ]
     },
     "execution_count": 92,
     "metadata": {},
     "output_type": "execute_result"
    }
   ],
   "source": [
    "boundaries"
   ]
  },
  {
   "cell_type": "code",
   "execution_count": 1,
   "metadata": {
    "pycharm": {
     "name": "#%%\n"
    }
   },
   "outputs": [],
   "source": [
    "from modules import Audio"
   ]
  },
  {
   "cell_type": "code",
   "execution_count": 47,
   "metadata": {
    "pycharm": {
     "name": "#%%\n"
    }
   },
   "outputs": [],
   "source": [
    "audio = Audio(\"/mnt/f/PhD/_Segments/44kHz/15s/ta2/Idiap-2010-01-room01_audio01M_trimmed_16kHz_sync_0032.wav\", 44100)\n",
    "signal = audio.load()"
   ]
  },
  {
   "cell_type": "code",
   "execution_count": 52,
   "metadata": {
    "pycharm": {
     "name": "#%%\n"
    }
   },
   "outputs": [
    {
     "data": {
      "application/vnd.jupyter.widget-view+json": {
       "model_id": "03b0093bd37c4f059f2b7ad38cc74a52",
       "version_major": 2,
       "version_minor": 0
      },
      "text/plain": [
       "  0%|          | 0/111 [00:00<?, ?it/s]"
      ]
     },
     "metadata": {},
     "output_type": "display_data"
    }
   ],
   "source": [
    "denoised = audio.denoise(signal, save=True, prop_decrease=0.9)"
   ]
  },
  {
   "cell_type": "code",
   "execution_count": 53,
   "metadata": {
    "pycharm": {
     "name": "#%%\n"
    }
   },
   "outputs": [],
   "source": [
    "import matplotlib.pyplot as plt\n",
    "%matplotlib inline"
   ]
  },
  {
   "cell_type": "code",
   "execution_count": 54,
   "metadata": {
    "pycharm": {
     "name": "#%%\n"
    }
   },
   "outputs": [
    {
     "data": {
      "text/plain": [
       "[<matplotlib.lines.Line2D at 0x7f14cc359e50>]"
      ]
     },
     "execution_count": 54,
     "metadata": {},
     "output_type": "execute_result"
    },
    {
     "data": {
      "image/png": "[encoded data removed]",
      "text/plain": [
       "<Figure size 432x288 with 1 Axes>"
      ]
     },
     "metadata": {
      "needs_background": "light"
     },
     "output_type": "display_data"
    }
   ],
   "source": [
    "plt.plot(signal)"
   ]
  },
  {
   "cell_type": "code",
   "execution_count": 55,
   "metadata": {
    "pycharm": {
     "name": "#%%\n"
    }
   },
   "outputs": [
    {
     "data": {
      "text/plain": [
       "[<matplotlib.lines.Line2D at 0x7f14cb8c36a0>]"
      ]
     },
     "execution_count": 55,
     "metadata": {},
     "output_type": "execute_result"
    },
    {
     "data": {
      "image/png": "[encoded data removed]",
      "text/plain": [
       "<Figure size 432x288 with 1 Axes>"
      ]
     },
     "metadata": {
      "needs_background": "light"
     },
     "output_type": "display_data"
    }
   ],
   "source": [
    "plt.plot(denoised)"
   ]
  },
  {
   "cell_type": "code",
   "execution_count": null,
   "outputs": [],
   "source": [
    "from modules import AudioFeature\n",
    "import pandas as pd"
   ],
   "metadata": {
    "collapsed": false,
    "pycharm": {
     "name": "#%%\n"
    }
   }
  },
  {
   "cell_type": "code",
   "execution_count": null,
   "outputs": [],
   "source": [
    "features = AudioFeature()"
   ],
   "metadata": {
    "collapsed": false,
    "pycharm": {
     "name": "#%%\n"
    }
   }
  },
  {
   "cell_type": "code",
   "execution_count": null,
   "outputs": [],
   "source": [
    "turn_extractor = features.TurnTaking()\n",
    "prosody_extractor = features.Prosody()"
   ],
   "metadata": {
    "collapsed": false,
    "pycharm": {
     "name": "#%%\n"
    }
   }
  },
  {
   "cell_type": "code",
   "execution_count": null,
   "outputs": [],
   "source": [
    "turn_take = turn_extractor(\"/mnt/f/PhD/_Segments/Segmented15s/.selected_audio/ami/IB4001.Mix-Headset_0091.wav\")\n",
    "mid = prosody_extractor(\"/mnt/f/PhD/_Segments/Segmented15s/.selected_audio/ami/IB4001.Mix-Headset_0091.wav\")"
   ],
   "metadata": {
    "collapsed": false,
    "pycharm": {
     "name": "#%%\n"
    }
   }
  },
  {
   "cell_type": "code",
   "execution_count": null,
   "outputs": [],
   "source": [
    "turn_take"
   ],
   "metadata": {
    "collapsed": false,
    "pycharm": {
     "name": "#%%\n"
    }
   }
  },
  {
   "cell_type": "code",
   "execution_count": null,
   "outputs": [],
   "source": [
    "features(turn_take, mid)"
   ],
   "metadata": {
    "collapsed": false,
    "pycharm": {
     "name": "#%%\n"
    }
   }
  },
  {
   "cell_type": "code",
   "execution_count": null,
   "outputs": [],
   "source": [
    "interval = pd.interval_range(start=0, end=15, freq=5)\n",
    "interval_overlap = pd.interval_range(start=4, end=15, freq=5)\n",
    "time_samples = interval.union(interval_overlap)\n",
    "\n",
    "postprocessed_df = pd.DataFrame(index=time_samples)"
   ],
   "metadata": {
    "collapsed": false,
    "pycharm": {
     "name": "#%%\n"
    }
   }
  },
  {
   "cell_type": "code",
   "execution_count": null,
   "outputs": [],
   "source": [
    "postprocessed_df = pd.DataFrame(index=time_samples)\n",
    "for start, end in zip(vad.Start, vad.End):\n",
    "    for i in range(len(time_samples)):\n",
    "        if start in time_samples[i]:\n",
    "            postprocessed_df.loc[time_samples[i], 'Start'] = start\n",
    "            postprocessed_df.loc[time_samples[i], 'End'] = time_samples[i].right\n",
    "        else:\n",
    "            postprocessed_df.loc[time_samples[i], 'Start'] = 0\n",
    "        if end in time_samples[i]:\n",
    "            postprocessed_df.loc[time_samples[i], 'Start'] = time_samples[i].left\n",
    "            postprocessed_df.loc[time_samples[i], 'End'] = end\n",
    "        else:\n",
    "            postprocessed_df.loc[time_samples[i], 'End'] = 0"
   ],
   "metadata": {
    "collapsed": false,
    "pycharm": {
     "name": "#%%\n"
    }
   }
  },
  {
   "cell_type": "code",
   "execution_count": null,
   "outputs": [],
   "source": [
    "postprocessed_df"
   ],
   "metadata": {
    "collapsed": false,
    "pycharm": {
     "name": "#%%\n"
    }
   }
  },
  {
   "cell_type": "code",
   "execution_count": null,
   "outputs": [],
   "source": [
    "import librosa as lb\n",
    "\n",
    "stream = lb.stream(\"/mnt/f/PhD/_Segments/Segmented15s/.selected_audio/ami/IB4001.Mix-Headset_0091.wav\", block_length=1, mono=True, frame_length=220500, hop_length=176400, fill_value=0)"
   ],
   "metadata": {
    "collapsed": false,
    "pycharm": {
     "name": "#%%\n"
    }
   }
  },
  {
   "cell_type": "code",
   "execution_count": null,
   "outputs": [],
   "source": [
    "for block in stream:\n",
    "    print(block)\n",
    "    \n"
   ],
   "metadata": {
    "collapsed": false,
    "pycharm": {
     "name": "#%%\n"
    }
   }
  },
  {
   "cell_type": "code",
   "execution_count": 1,
   "outputs": [
    {
     "data": {
      "text/plain": "['audspec_lengthL1norm_sma_range',\n 'audspec_lengthL1norm_sma_maxPos',\n 'audspec_lengthL1norm_sma_minPos',\n 'audspec_lengthL1norm_sma_quartile1',\n 'audspec_lengthL1norm_sma_quartile2',\n 'audspec_lengthL1norm_sma_quartile3',\n 'audspec_lengthL1norm_sma_iqr1-2',\n 'audspec_lengthL1norm_sma_iqr2-3',\n 'audspec_lengthL1norm_sma_iqr1-3',\n 'audspec_lengthL1norm_sma_percentile1.0',\n 'audspec_lengthL1norm_sma_percentile99.0',\n 'audspec_lengthL1norm_sma_pctlrange0-1',\n 'audspec_lengthL1norm_sma_stddev',\n 'audspec_lengthL1norm_sma_skewness',\n 'audspec_lengthL1norm_sma_kurtosis',\n 'audspec_lengthL1norm_sma_meanSegLen',\n 'audspec_lengthL1norm_sma_maxSegLen',\n 'audspec_lengthL1norm_sma_minSegLen',\n 'audspec_lengthL1norm_sma_segLenStddev',\n 'audspec_lengthL1norm_sma_upleveltime25',\n 'audspec_lengthL1norm_sma_upleveltime50',\n 'audspec_lengthL1norm_sma_upleveltime75',\n 'audspec_lengthL1norm_sma_upleveltime90',\n 'audspec_lengthL1norm_sma_risetime',\n 'audspec_lengthL1norm_sma_leftctime',\n 'audspec_lengthL1norm_sma_lpgain',\n 'audspec_lengthL1norm_sma_lpc0',\n 'audspec_lengthL1norm_sma_lpc1',\n 'audspec_lengthL1norm_sma_lpc2',\n 'audspec_lengthL1norm_sma_lpc3',\n 'audspec_lengthL1norm_sma_lpc4',\n 'audspecRasta_lengthL1norm_sma_range',\n 'audspecRasta_lengthL1norm_sma_maxPos',\n 'audspecRasta_lengthL1norm_sma_minPos',\n 'audspecRasta_lengthL1norm_sma_quartile1',\n 'audspecRasta_lengthL1norm_sma_quartile2',\n 'audspecRasta_lengthL1norm_sma_quartile3',\n 'audspecRasta_lengthL1norm_sma_iqr1-2',\n 'audspecRasta_lengthL1norm_sma_iqr2-3',\n 'audspecRasta_lengthL1norm_sma_iqr1-3',\n 'audspecRasta_lengthL1norm_sma_percentile1.0',\n 'audspecRasta_lengthL1norm_sma_percentile99.0',\n 'audspecRasta_lengthL1norm_sma_pctlrange0-1',\n 'audspecRasta_lengthL1norm_sma_stddev',\n 'audspecRasta_lengthL1norm_sma_skewness',\n 'audspecRasta_lengthL1norm_sma_kurtosis',\n 'audspecRasta_lengthL1norm_sma_meanSegLen',\n 'audspecRasta_lengthL1norm_sma_maxSegLen',\n 'audspecRasta_lengthL1norm_sma_minSegLen',\n 'audspecRasta_lengthL1norm_sma_segLenStddev',\n 'audspecRasta_lengthL1norm_sma_upleveltime25',\n 'audspecRasta_lengthL1norm_sma_upleveltime50',\n 'audspecRasta_lengthL1norm_sma_upleveltime75',\n 'audspecRasta_lengthL1norm_sma_upleveltime90',\n 'audspecRasta_lengthL1norm_sma_risetime',\n 'audspecRasta_lengthL1norm_sma_leftctime',\n 'audspecRasta_lengthL1norm_sma_lpgain',\n 'audspecRasta_lengthL1norm_sma_lpc0',\n 'audspecRasta_lengthL1norm_sma_lpc1',\n 'audspecRasta_lengthL1norm_sma_lpc2',\n 'audspecRasta_lengthL1norm_sma_lpc3',\n 'audspecRasta_lengthL1norm_sma_lpc4',\n 'pcm_RMSenergy_sma_range',\n 'pcm_RMSenergy_sma_maxPos',\n 'pcm_RMSenergy_sma_minPos',\n 'pcm_RMSenergy_sma_quartile1',\n 'pcm_RMSenergy_sma_quartile2',\n 'pcm_RMSenergy_sma_quartile3',\n 'pcm_RMSenergy_sma_iqr1-2',\n 'pcm_RMSenergy_sma_iqr2-3',\n 'pcm_RMSenergy_sma_iqr1-3',\n 'pcm_RMSenergy_sma_percentile1.0',\n 'pcm_RMSenergy_sma_percentile99.0',\n 'pcm_RMSenergy_sma_pctlrange0-1',\n 'pcm_RMSenergy_sma_stddev',\n 'pcm_RMSenergy_sma_skewness',\n 'pcm_RMSenergy_sma_kurtosis',\n 'pcm_RMSenergy_sma_meanSegLen',\n 'pcm_RMSenergy_sma_maxSegLen',\n 'pcm_RMSenergy_sma_minSegLen',\n 'pcm_RMSenergy_sma_segLenStddev',\n 'pcm_RMSenergy_sma_upleveltime25',\n 'pcm_RMSenergy_sma_upleveltime50',\n 'pcm_RMSenergy_sma_upleveltime75',\n 'pcm_RMSenergy_sma_upleveltime90',\n 'pcm_RMSenergy_sma_risetime',\n 'pcm_RMSenergy_sma_leftctime',\n 'pcm_RMSenergy_sma_lpgain',\n 'pcm_RMSenergy_sma_lpc0',\n 'pcm_RMSenergy_sma_lpc1',\n 'pcm_RMSenergy_sma_lpc2',\n 'pcm_RMSenergy_sma_lpc3',\n 'pcm_RMSenergy_sma_lpc4',\n 'pcm_zcr_sma_range',\n 'pcm_zcr_sma_maxPos',\n 'pcm_zcr_sma_minPos',\n 'pcm_zcr_sma_quartile1',\n 'pcm_zcr_sma_quartile2',\n 'pcm_zcr_sma_quartile3',\n 'pcm_zcr_sma_iqr1-2',\n 'pcm_zcr_sma_iqr2-3',\n 'pcm_zcr_sma_iqr1-3',\n 'pcm_zcr_sma_percentile1.0',\n 'pcm_zcr_sma_percentile99.0',\n 'pcm_zcr_sma_pctlrange0-1',\n 'pcm_zcr_sma_stddev',\n 'pcm_zcr_sma_skewness',\n 'pcm_zcr_sma_kurtosis',\n 'pcm_zcr_sma_meanSegLen',\n 'pcm_zcr_sma_maxSegLen',\n 'pcm_zcr_sma_minSegLen',\n 'pcm_zcr_sma_segLenStddev',\n 'pcm_zcr_sma_upleveltime25',\n 'pcm_zcr_sma_upleveltime50',\n 'pcm_zcr_sma_upleveltime75',\n 'pcm_zcr_sma_upleveltime90',\n 'pcm_zcr_sma_risetime',\n 'pcm_zcr_sma_leftctime',\n 'pcm_zcr_sma_lpgain',\n 'pcm_zcr_sma_lpc0',\n 'pcm_zcr_sma_lpc1',\n 'pcm_zcr_sma_lpc2',\n 'pcm_zcr_sma_lpc3',\n 'pcm_zcr_sma_lpc4',\n 'audspec_lengthL1norm_sma_de_range',\n 'audspec_lengthL1norm_sma_de_maxPos',\n 'audspec_lengthL1norm_sma_de_minPos',\n 'audspec_lengthL1norm_sma_de_quartile1',\n 'audspec_lengthL1norm_sma_de_quartile2',\n 'audspec_lengthL1norm_sma_de_quartile3',\n 'audspec_lengthL1norm_sma_de_iqr1-2',\n 'audspec_lengthL1norm_sma_de_iqr2-3',\n 'audspec_lengthL1norm_sma_de_iqr1-3',\n 'audspec_lengthL1norm_sma_de_percentile1.0',\n 'audspec_lengthL1norm_sma_de_percentile99.0',\n 'audspec_lengthL1norm_sma_de_pctlrange0-1',\n 'audspec_lengthL1norm_sma_de_stddev',\n 'audspec_lengthL1norm_sma_de_skewness',\n 'audspec_lengthL1norm_sma_de_kurtosis',\n 'audspec_lengthL1norm_sma_de_meanSegLen',\n 'audspec_lengthL1norm_sma_de_maxSegLen',\n 'audspec_lengthL1norm_sma_de_minSegLen',\n 'audspec_lengthL1norm_sma_de_segLenStddev',\n 'audspec_lengthL1norm_sma_de_upleveltime25',\n 'audspec_lengthL1norm_sma_de_upleveltime50',\n 'audspec_lengthL1norm_sma_de_upleveltime75',\n 'audspec_lengthL1norm_sma_de_upleveltime90',\n 'audspec_lengthL1norm_sma_de_risetime',\n 'audspec_lengthL1norm_sma_de_leftctime',\n 'audspec_lengthL1norm_sma_de_lpgain',\n 'audspec_lengthL1norm_sma_de_lpc0',\n 'audspec_lengthL1norm_sma_de_lpc1',\n 'audspec_lengthL1norm_sma_de_lpc2',\n 'audspec_lengthL1norm_sma_de_lpc3',\n 'audspec_lengthL1norm_sma_de_lpc4',\n 'audspecRasta_lengthL1norm_sma_de_range',\n 'audspecRasta_lengthL1norm_sma_de_maxPos',\n 'audspecRasta_lengthL1norm_sma_de_minPos',\n 'audspecRasta_lengthL1norm_sma_de_quartile1',\n 'audspecRasta_lengthL1norm_sma_de_quartile2',\n 'audspecRasta_lengthL1norm_sma_de_quartile3',\n 'audspecRasta_lengthL1norm_sma_de_iqr1-2',\n 'audspecRasta_lengthL1norm_sma_de_iqr2-3',\n 'audspecRasta_lengthL1norm_sma_de_iqr1-3',\n 'audspecRasta_lengthL1norm_sma_de_percentile1.0',\n 'audspecRasta_lengthL1norm_sma_de_percentile99.0',\n 'audspecRasta_lengthL1norm_sma_de_pctlrange0-1',\n 'audspecRasta_lengthL1norm_sma_de_stddev',\n 'audspecRasta_lengthL1norm_sma_de_skewness',\n 'audspecRasta_lengthL1norm_sma_de_kurtosis',\n 'audspecRasta_lengthL1norm_sma_de_meanSegLen',\n 'audspecRasta_lengthL1norm_sma_de_maxSegLen',\n 'audspecRasta_lengthL1norm_sma_de_minSegLen',\n 'audspecRasta_lengthL1norm_sma_de_segLenStddev',\n 'audspecRasta_lengthL1norm_sma_de_upleveltime25',\n 'audspecRasta_lengthL1norm_sma_de_upleveltime50',\n 'audspecRasta_lengthL1norm_sma_de_upleveltime75',\n 'audspecRasta_lengthL1norm_sma_de_upleveltime90',\n 'audspecRasta_lengthL1norm_sma_de_risetime',\n 'audspecRasta_lengthL1norm_sma_de_leftctime',\n 'audspecRasta_lengthL1norm_sma_de_lpgain',\n 'audspecRasta_lengthL1norm_sma_de_lpc0',\n 'audspecRasta_lengthL1norm_sma_de_lpc1',\n 'audspecRasta_lengthL1norm_sma_de_lpc2',\n 'audspecRasta_lengthL1norm_sma_de_lpc3',\n 'audspecRasta_lengthL1norm_sma_de_lpc4',\n 'pcm_RMSenergy_sma_de_range',\n 'pcm_RMSenergy_sma_de_maxPos',\n 'pcm_RMSenergy_sma_de_minPos',\n 'pcm_RMSenergy_sma_de_quartile1',\n 'pcm_RMSenergy_sma_de_quartile2',\n 'pcm_RMSenergy_sma_de_quartile3',\n 'pcm_RMSenergy_sma_de_iqr1-2',\n 'pcm_RMSenergy_sma_de_iqr2-3',\n 'pcm_RMSenergy_sma_de_iqr1-3',\n 'pcm_RMSenergy_sma_de_percentile1.0',\n 'pcm_RMSenergy_sma_de_percentile99.0',\n 'pcm_RMSenergy_sma_de_pctlrange0-1',\n 'pcm_RMSenergy_sma_de_stddev',\n 'pcm_RMSenergy_sma_de_skewness',\n 'pcm_RMSenergy_sma_de_kurtosis',\n 'pcm_RMSenergy_sma_de_meanSegLen',\n 'pcm_RMSenergy_sma_de_maxSegLen',\n 'pcm_RMSenergy_sma_de_minSegLen',\n 'pcm_RMSenergy_sma_de_segLenStddev',\n 'pcm_RMSenergy_sma_de_upleveltime25',\n 'pcm_RMSenergy_sma_de_upleveltime50',\n 'pcm_RMSenergy_sma_de_upleveltime75',\n 'pcm_RMSenergy_sma_de_upleveltime90',\n 'pcm_RMSenergy_sma_de_risetime',\n 'pcm_RMSenergy_sma_de_leftctime',\n 'pcm_RMSenergy_sma_de_lpgain',\n 'pcm_RMSenergy_sma_de_lpc0',\n 'pcm_RMSenergy_sma_de_lpc1',\n 'pcm_RMSenergy_sma_de_lpc2',\n 'pcm_RMSenergy_sma_de_lpc3',\n 'pcm_RMSenergy_sma_de_lpc4',\n 'pcm_zcr_sma_de_range',\n 'pcm_zcr_sma_de_maxPos',\n 'pcm_zcr_sma_de_minPos',\n 'pcm_zcr_sma_de_quartile1',\n 'pcm_zcr_sma_de_quartile2',\n 'pcm_zcr_sma_de_quartile3',\n 'pcm_zcr_sma_de_iqr1-2',\n 'pcm_zcr_sma_de_iqr2-3',\n 'pcm_zcr_sma_de_iqr1-3',\n 'pcm_zcr_sma_de_percentile1.0',\n 'pcm_zcr_sma_de_percentile99.0',\n 'pcm_zcr_sma_de_pctlrange0-1',\n 'pcm_zcr_sma_de_stddev',\n 'pcm_zcr_sma_de_skewness',\n 'pcm_zcr_sma_de_kurtosis',\n 'pcm_zcr_sma_de_meanSegLen',\n 'pcm_zcr_sma_de_maxSegLen',\n 'pcm_zcr_sma_de_minSegLen',\n 'pcm_zcr_sma_de_segLenStddev',\n 'pcm_zcr_sma_de_upleveltime25',\n 'pcm_zcr_sma_de_upleveltime50',\n 'pcm_zcr_sma_de_upleveltime75',\n 'pcm_zcr_sma_de_upleveltime90',\n 'pcm_zcr_sma_de_risetime',\n 'pcm_zcr_sma_de_leftctime',\n 'pcm_zcr_sma_de_lpgain',\n 'pcm_zcr_sma_de_lpc0',\n 'pcm_zcr_sma_de_lpc1',\n 'pcm_zcr_sma_de_lpc2',\n 'pcm_zcr_sma_de_lpc3',\n 'pcm_zcr_sma_de_lpc4',\n 'audSpec_Rfilt_sma[0]_range',\n 'audSpec_Rfilt_sma[0]_maxPos',\n 'audSpec_Rfilt_sma[0]_minPos',\n 'audSpec_Rfilt_sma[0]_quartile1',\n 'audSpec_Rfilt_sma[0]_quartile2',\n 'audSpec_Rfilt_sma[0]_quartile3',\n 'audSpec_Rfilt_sma[0]_iqr1-2',\n 'audSpec_Rfilt_sma[0]_iqr2-3',\n 'audSpec_Rfilt_sma[0]_iqr1-3',\n 'audSpec_Rfilt_sma[0]_percentile1.0',\n 'audSpec_Rfilt_sma[0]_percentile99.0',\n 'audSpec_Rfilt_sma[0]_pctlrange0-1',\n 'audSpec_Rfilt_sma[0]_stddev',\n 'audSpec_Rfilt_sma[0]_skewness',\n 'audSpec_Rfilt_sma[0]_kurtosis',\n 'audSpec_Rfilt_sma[0]_meanSegLen',\n 'audSpec_Rfilt_sma[0]_maxSegLen',\n 'audSpec_Rfilt_sma[0]_minSegLen',\n 'audSpec_Rfilt_sma[0]_segLenStddev',\n 'audSpec_Rfilt_sma[0]_upleveltime25',\n 'audSpec_Rfilt_sma[0]_upleveltime50',\n 'audSpec_Rfilt_sma[0]_upleveltime75',\n 'audSpec_Rfilt_sma[0]_upleveltime90',\n 'audSpec_Rfilt_sma[0]_risetime',\n 'audSpec_Rfilt_sma[0]_leftctime',\n 'audSpec_Rfilt_sma[0]_lpgain',\n 'audSpec_Rfilt_sma[0]_lpc0',\n 'audSpec_Rfilt_sma[0]_lpc1',\n 'audSpec_Rfilt_sma[0]_lpc2',\n 'audSpec_Rfilt_sma[0]_lpc3',\n 'audSpec_Rfilt_sma[0]_lpc4',\n 'audSpec_Rfilt_sma[1]_range',\n 'audSpec_Rfilt_sma[1]_maxPos',\n 'audSpec_Rfilt_sma[1]_minPos',\n 'audSpec_Rfilt_sma[1]_quartile1',\n 'audSpec_Rfilt_sma[1]_quartile2',\n 'audSpec_Rfilt_sma[1]_quartile3',\n 'audSpec_Rfilt_sma[1]_iqr1-2',\n 'audSpec_Rfilt_sma[1]_iqr2-3',\n 'audSpec_Rfilt_sma[1]_iqr1-3',\n 'audSpec_Rfilt_sma[1]_percentile1.0',\n 'audSpec_Rfilt_sma[1]_percentile99.0',\n 'audSpec_Rfilt_sma[1]_pctlrange0-1',\n 'audSpec_Rfilt_sma[1]_stddev',\n 'audSpec_Rfilt_sma[1]_skewness',\n 'audSpec_Rfilt_sma[1]_kurtosis',\n 'audSpec_Rfilt_sma[1]_meanSegLen',\n 'audSpec_Rfilt_sma[1]_maxSegLen',\n 'audSpec_Rfilt_sma[1]_minSegLen',\n 'audSpec_Rfilt_sma[1]_segLenStddev',\n 'audSpec_Rfilt_sma[1]_upleveltime25',\n 'audSpec_Rfilt_sma[1]_upleveltime50',\n 'audSpec_Rfilt_sma[1]_upleveltime75',\n 'audSpec_Rfilt_sma[1]_upleveltime90',\n 'audSpec_Rfilt_sma[1]_risetime',\n 'audSpec_Rfilt_sma[1]_leftctime',\n 'audSpec_Rfilt_sma[1]_lpgain',\n 'audSpec_Rfilt_sma[1]_lpc0',\n 'audSpec_Rfilt_sma[1]_lpc1',\n 'audSpec_Rfilt_sma[1]_lpc2',\n 'audSpec_Rfilt_sma[1]_lpc3',\n 'audSpec_Rfilt_sma[1]_lpc4',\n 'audSpec_Rfilt_sma[2]_range',\n 'audSpec_Rfilt_sma[2]_maxPos',\n 'audSpec_Rfilt_sma[2]_minPos',\n 'audSpec_Rfilt_sma[2]_quartile1',\n 'audSpec_Rfilt_sma[2]_quartile2',\n 'audSpec_Rfilt_sma[2]_quartile3',\n 'audSpec_Rfilt_sma[2]_iqr1-2',\n 'audSpec_Rfilt_sma[2]_iqr2-3',\n 'audSpec_Rfilt_sma[2]_iqr1-3',\n 'audSpec_Rfilt_sma[2]_percentile1.0',\n 'audSpec_Rfilt_sma[2]_percentile99.0',\n 'audSpec_Rfilt_sma[2]_pctlrange0-1',\n 'audSpec_Rfilt_sma[2]_stddev',\n 'audSpec_Rfilt_sma[2]_skewness',\n 'audSpec_Rfilt_sma[2]_kurtosis',\n 'audSpec_Rfilt_sma[2]_meanSegLen',\n 'audSpec_Rfilt_sma[2]_maxSegLen',\n 'audSpec_Rfilt_sma[2]_minSegLen',\n 'audSpec_Rfilt_sma[2]_segLenStddev',\n 'audSpec_Rfilt_sma[2]_upleveltime25',\n 'audSpec_Rfilt_sma[2]_upleveltime50',\n 'audSpec_Rfilt_sma[2]_upleveltime75',\n 'audSpec_Rfilt_sma[2]_upleveltime90',\n 'audSpec_Rfilt_sma[2]_risetime',\n 'audSpec_Rfilt_sma[2]_leftctime',\n 'audSpec_Rfilt_sma[2]_lpgain',\n 'audSpec_Rfilt_sma[2]_lpc0',\n 'audSpec_Rfilt_sma[2]_lpc1',\n 'audSpec_Rfilt_sma[2]_lpc2',\n 'audSpec_Rfilt_sma[2]_lpc3',\n 'audSpec_Rfilt_sma[2]_lpc4',\n 'audSpec_Rfilt_sma[3]_range',\n 'audSpec_Rfilt_sma[3]_maxPos',\n 'audSpec_Rfilt_sma[3]_minPos',\n 'audSpec_Rfilt_sma[3]_quartile1',\n 'audSpec_Rfilt_sma[3]_quartile2',\n 'audSpec_Rfilt_sma[3]_quartile3',\n 'audSpec_Rfilt_sma[3]_iqr1-2',\n 'audSpec_Rfilt_sma[3]_iqr2-3',\n 'audSpec_Rfilt_sma[3]_iqr1-3',\n 'audSpec_Rfilt_sma[3]_percentile1.0',\n 'audSpec_Rfilt_sma[3]_percentile99.0',\n 'audSpec_Rfilt_sma[3]_pctlrange0-1',\n 'audSpec_Rfilt_sma[3]_stddev',\n 'audSpec_Rfilt_sma[3]_skewness',\n 'audSpec_Rfilt_sma[3]_kurtosis',\n 'audSpec_Rfilt_sma[3]_meanSegLen',\n 'audSpec_Rfilt_sma[3]_maxSegLen',\n 'audSpec_Rfilt_sma[3]_minSegLen',\n 'audSpec_Rfilt_sma[3]_segLenStddev',\n 'audSpec_Rfilt_sma[3]_upleveltime25',\n 'audSpec_Rfilt_sma[3]_upleveltime50',\n 'audSpec_Rfilt_sma[3]_upleveltime75',\n 'audSpec_Rfilt_sma[3]_upleveltime90',\n 'audSpec_Rfilt_sma[3]_risetime',\n 'audSpec_Rfilt_sma[3]_leftctime',\n 'audSpec_Rfilt_sma[3]_lpgain',\n 'audSpec_Rfilt_sma[3]_lpc0',\n 'audSpec_Rfilt_sma[3]_lpc1',\n 'audSpec_Rfilt_sma[3]_lpc2',\n 'audSpec_Rfilt_sma[3]_lpc3',\n 'audSpec_Rfilt_sma[3]_lpc4',\n 'audSpec_Rfilt_sma[4]_range',\n 'audSpec_Rfilt_sma[4]_maxPos',\n 'audSpec_Rfilt_sma[4]_minPos',\n 'audSpec_Rfilt_sma[4]_quartile1',\n 'audSpec_Rfilt_sma[4]_quartile2',\n 'audSpec_Rfilt_sma[4]_quartile3',\n 'audSpec_Rfilt_sma[4]_iqr1-2',\n 'audSpec_Rfilt_sma[4]_iqr2-3',\n 'audSpec_Rfilt_sma[4]_iqr1-3',\n 'audSpec_Rfilt_sma[4]_percentile1.0',\n 'audSpec_Rfilt_sma[4]_percentile99.0',\n 'audSpec_Rfilt_sma[4]_pctlrange0-1',\n 'audSpec_Rfilt_sma[4]_stddev',\n 'audSpec_Rfilt_sma[4]_skewness',\n 'audSpec_Rfilt_sma[4]_kurtosis',\n 'audSpec_Rfilt_sma[4]_meanSegLen',\n 'audSpec_Rfilt_sma[4]_maxSegLen',\n 'audSpec_Rfilt_sma[4]_minSegLen',\n 'audSpec_Rfilt_sma[4]_segLenStddev',\n 'audSpec_Rfilt_sma[4]_upleveltime25',\n 'audSpec_Rfilt_sma[4]_upleveltime50',\n 'audSpec_Rfilt_sma[4]_upleveltime75',\n 'audSpec_Rfilt_sma[4]_upleveltime90',\n 'audSpec_Rfilt_sma[4]_risetime',\n 'audSpec_Rfilt_sma[4]_leftctime',\n 'audSpec_Rfilt_sma[4]_lpgain',\n 'audSpec_Rfilt_sma[4]_lpc0',\n 'audSpec_Rfilt_sma[4]_lpc1',\n 'audSpec_Rfilt_sma[4]_lpc2',\n 'audSpec_Rfilt_sma[4]_lpc3',\n 'audSpec_Rfilt_sma[4]_lpc4',\n 'audSpec_Rfilt_sma[5]_range',\n 'audSpec_Rfilt_sma[5]_maxPos',\n 'audSpec_Rfilt_sma[5]_minPos',\n 'audSpec_Rfilt_sma[5]_quartile1',\n 'audSpec_Rfilt_sma[5]_quartile2',\n 'audSpec_Rfilt_sma[5]_quartile3',\n 'audSpec_Rfilt_sma[5]_iqr1-2',\n 'audSpec_Rfilt_sma[5]_iqr2-3',\n 'audSpec_Rfilt_sma[5]_iqr1-3',\n 'audSpec_Rfilt_sma[5]_percentile1.0',\n 'audSpec_Rfilt_sma[5]_percentile99.0',\n 'audSpec_Rfilt_sma[5]_pctlrange0-1',\n 'audSpec_Rfilt_sma[5]_stddev',\n 'audSpec_Rfilt_sma[5]_skewness',\n 'audSpec_Rfilt_sma[5]_kurtosis',\n 'audSpec_Rfilt_sma[5]_meanSegLen',\n 'audSpec_Rfilt_sma[5]_maxSegLen',\n 'audSpec_Rfilt_sma[5]_minSegLen',\n 'audSpec_Rfilt_sma[5]_segLenStddev',\n 'audSpec_Rfilt_sma[5]_upleveltime25',\n 'audSpec_Rfilt_sma[5]_upleveltime50',\n 'audSpec_Rfilt_sma[5]_upleveltime75',\n 'audSpec_Rfilt_sma[5]_upleveltime90',\n 'audSpec_Rfilt_sma[5]_risetime',\n 'audSpec_Rfilt_sma[5]_leftctime',\n 'audSpec_Rfilt_sma[5]_lpgain',\n 'audSpec_Rfilt_sma[5]_lpc0',\n 'audSpec_Rfilt_sma[5]_lpc1',\n 'audSpec_Rfilt_sma[5]_lpc2',\n 'audSpec_Rfilt_sma[5]_lpc3',\n 'audSpec_Rfilt_sma[5]_lpc4',\n 'audSpec_Rfilt_sma[6]_range',\n 'audSpec_Rfilt_sma[6]_maxPos',\n 'audSpec_Rfilt_sma[6]_minPos',\n 'audSpec_Rfilt_sma[6]_quartile1',\n 'audSpec_Rfilt_sma[6]_quartile2',\n 'audSpec_Rfilt_sma[6]_quartile3',\n 'audSpec_Rfilt_sma[6]_iqr1-2',\n 'audSpec_Rfilt_sma[6]_iqr2-3',\n 'audSpec_Rfilt_sma[6]_iqr1-3',\n 'audSpec_Rfilt_sma[6]_percentile1.0',\n 'audSpec_Rfilt_sma[6]_percentile99.0',\n 'audSpec_Rfilt_sma[6]_pctlrange0-1',\n 'audSpec_Rfilt_sma[6]_stddev',\n 'audSpec_Rfilt_sma[6]_skewness',\n 'audSpec_Rfilt_sma[6]_kurtosis',\n 'audSpec_Rfilt_sma[6]_meanSegLen',\n 'audSpec_Rfilt_sma[6]_maxSegLen',\n 'audSpec_Rfilt_sma[6]_minSegLen',\n 'audSpec_Rfilt_sma[6]_segLenStddev',\n 'audSpec_Rfilt_sma[6]_upleveltime25',\n 'audSpec_Rfilt_sma[6]_upleveltime50',\n 'audSpec_Rfilt_sma[6]_upleveltime75',\n 'audSpec_Rfilt_sma[6]_upleveltime90',\n 'audSpec_Rfilt_sma[6]_risetime',\n 'audSpec_Rfilt_sma[6]_leftctime',\n 'audSpec_Rfilt_sma[6]_lpgain',\n 'audSpec_Rfilt_sma[6]_lpc0',\n 'audSpec_Rfilt_sma[6]_lpc1',\n 'audSpec_Rfilt_sma[6]_lpc2',\n 'audSpec_Rfilt_sma[6]_lpc3',\n 'audSpec_Rfilt_sma[6]_lpc4',\n 'audSpec_Rfilt_sma[7]_range',\n 'audSpec_Rfilt_sma[7]_maxPos',\n 'audSpec_Rfilt_sma[7]_minPos',\n 'audSpec_Rfilt_sma[7]_quartile1',\n 'audSpec_Rfilt_sma[7]_quartile2',\n 'audSpec_Rfilt_sma[7]_quartile3',\n 'audSpec_Rfilt_sma[7]_iqr1-2',\n 'audSpec_Rfilt_sma[7]_iqr2-3',\n 'audSpec_Rfilt_sma[7]_iqr1-3',\n 'audSpec_Rfilt_sma[7]_percentile1.0',\n 'audSpec_Rfilt_sma[7]_percentile99.0',\n 'audSpec_Rfilt_sma[7]_pctlrange0-1',\n 'audSpec_Rfilt_sma[7]_stddev',\n 'audSpec_Rfilt_sma[7]_skewness',\n 'audSpec_Rfilt_sma[7]_kurtosis',\n 'audSpec_Rfilt_sma[7]_meanSegLen',\n 'audSpec_Rfilt_sma[7]_maxSegLen',\n 'audSpec_Rfilt_sma[7]_minSegLen',\n 'audSpec_Rfilt_sma[7]_segLenStddev',\n 'audSpec_Rfilt_sma[7]_upleveltime25',\n 'audSpec_Rfilt_sma[7]_upleveltime50',\n 'audSpec_Rfilt_sma[7]_upleveltime75',\n 'audSpec_Rfilt_sma[7]_upleveltime90',\n 'audSpec_Rfilt_sma[7]_risetime',\n 'audSpec_Rfilt_sma[7]_leftctime',\n 'audSpec_Rfilt_sma[7]_lpgain',\n 'audSpec_Rfilt_sma[7]_lpc0',\n 'audSpec_Rfilt_sma[7]_lpc1',\n 'audSpec_Rfilt_sma[7]_lpc2',\n 'audSpec_Rfilt_sma[7]_lpc3',\n 'audSpec_Rfilt_sma[7]_lpc4',\n 'audSpec_Rfilt_sma[8]_range',\n 'audSpec_Rfilt_sma[8]_maxPos',\n 'audSpec_Rfilt_sma[8]_minPos',\n 'audSpec_Rfilt_sma[8]_quartile1',\n 'audSpec_Rfilt_sma[8]_quartile2',\n 'audSpec_Rfilt_sma[8]_quartile3',\n 'audSpec_Rfilt_sma[8]_iqr1-2',\n 'audSpec_Rfilt_sma[8]_iqr2-3',\n 'audSpec_Rfilt_sma[8]_iqr1-3',\n 'audSpec_Rfilt_sma[8]_percentile1.0',\n 'audSpec_Rfilt_sma[8]_percentile99.0',\n 'audSpec_Rfilt_sma[8]_pctlrange0-1',\n 'audSpec_Rfilt_sma[8]_stddev',\n 'audSpec_Rfilt_sma[8]_skewness',\n 'audSpec_Rfilt_sma[8]_kurtosis',\n 'audSpec_Rfilt_sma[8]_meanSegLen',\n 'audSpec_Rfilt_sma[8]_maxSegLen',\n 'audSpec_Rfilt_sma[8]_minSegLen',\n 'audSpec_Rfilt_sma[8]_segLenStddev',\n 'audSpec_Rfilt_sma[8]_upleveltime25',\n 'audSpec_Rfilt_sma[8]_upleveltime50',\n 'audSpec_Rfilt_sma[8]_upleveltime75',\n 'audSpec_Rfilt_sma[8]_upleveltime90',\n 'audSpec_Rfilt_sma[8]_risetime',\n 'audSpec_Rfilt_sma[8]_leftctime',\n 'audSpec_Rfilt_sma[8]_lpgain',\n 'audSpec_Rfilt_sma[8]_lpc0',\n 'audSpec_Rfilt_sma[8]_lpc1',\n 'audSpec_Rfilt_sma[8]_lpc2',\n 'audSpec_Rfilt_sma[8]_lpc3',\n 'audSpec_Rfilt_sma[8]_lpc4',\n 'audSpec_Rfilt_sma[9]_range',\n 'audSpec_Rfilt_sma[9]_maxPos',\n 'audSpec_Rfilt_sma[9]_minPos',\n 'audSpec_Rfilt_sma[9]_quartile1',\n 'audSpec_Rfilt_sma[9]_quartile2',\n 'audSpec_Rfilt_sma[9]_quartile3',\n 'audSpec_Rfilt_sma[9]_iqr1-2',\n 'audSpec_Rfilt_sma[9]_iqr2-3',\n 'audSpec_Rfilt_sma[9]_iqr1-3',\n 'audSpec_Rfilt_sma[9]_percentile1.0',\n 'audSpec_Rfilt_sma[9]_percentile99.0',\n 'audSpec_Rfilt_sma[9]_pctlrange0-1',\n 'audSpec_Rfilt_sma[9]_stddev',\n 'audSpec_Rfilt_sma[9]_skewness',\n 'audSpec_Rfilt_sma[9]_kurtosis',\n 'audSpec_Rfilt_sma[9]_meanSegLen',\n 'audSpec_Rfilt_sma[9]_maxSegLen',\n 'audSpec_Rfilt_sma[9]_minSegLen',\n 'audSpec_Rfilt_sma[9]_segLenStddev',\n 'audSpec_Rfilt_sma[9]_upleveltime25',\n 'audSpec_Rfilt_sma[9]_upleveltime50',\n 'audSpec_Rfilt_sma[9]_upleveltime75',\n 'audSpec_Rfilt_sma[9]_upleveltime90',\n 'audSpec_Rfilt_sma[9]_risetime',\n 'audSpec_Rfilt_sma[9]_leftctime',\n 'audSpec_Rfilt_sma[9]_lpgain',\n 'audSpec_Rfilt_sma[9]_lpc0',\n 'audSpec_Rfilt_sma[9]_lpc1',\n 'audSpec_Rfilt_sma[9]_lpc2',\n 'audSpec_Rfilt_sma[9]_lpc3',\n 'audSpec_Rfilt_sma[9]_lpc4',\n 'audSpec_Rfilt_sma[10]_range',\n 'audSpec_Rfilt_sma[10]_maxPos',\n 'audSpec_Rfilt_sma[10]_minPos',\n 'audSpec_Rfilt_sma[10]_quartile1',\n 'audSpec_Rfilt_sma[10]_quartile2',\n 'audSpec_Rfilt_sma[10]_quartile3',\n 'audSpec_Rfilt_sma[10]_iqr1-2',\n 'audSpec_Rfilt_sma[10]_iqr2-3',\n 'audSpec_Rfilt_sma[10]_iqr1-3',\n 'audSpec_Rfilt_sma[10]_percentile1.0',\n 'audSpec_Rfilt_sma[10]_percentile99.0',\n 'audSpec_Rfilt_sma[10]_pctlrange0-1',\n 'audSpec_Rfilt_sma[10]_stddev',\n 'audSpec_Rfilt_sma[10]_skewness',\n 'audSpec_Rfilt_sma[10]_kurtosis',\n 'audSpec_Rfilt_sma[10]_meanSegLen',\n 'audSpec_Rfilt_sma[10]_maxSegLen',\n 'audSpec_Rfilt_sma[10]_minSegLen',\n 'audSpec_Rfilt_sma[10]_segLenStddev',\n 'audSpec_Rfilt_sma[10]_upleveltime25',\n 'audSpec_Rfilt_sma[10]_upleveltime50',\n 'audSpec_Rfilt_sma[10]_upleveltime75',\n 'audSpec_Rfilt_sma[10]_upleveltime90',\n 'audSpec_Rfilt_sma[10]_risetime',\n 'audSpec_Rfilt_sma[10]_leftctime',\n 'audSpec_Rfilt_sma[10]_lpgain',\n 'audSpec_Rfilt_sma[10]_lpc0',\n 'audSpec_Rfilt_sma[10]_lpc1',\n 'audSpec_Rfilt_sma[10]_lpc2',\n 'audSpec_Rfilt_sma[10]_lpc3',\n 'audSpec_Rfilt_sma[10]_lpc4',\n 'audSpec_Rfilt_sma[11]_range',\n 'audSpec_Rfilt_sma[11]_maxPos',\n 'audSpec_Rfilt_sma[11]_minPos',\n 'audSpec_Rfilt_sma[11]_quartile1',\n 'audSpec_Rfilt_sma[11]_quartile2',\n 'audSpec_Rfilt_sma[11]_quartile3',\n 'audSpec_Rfilt_sma[11]_iqr1-2',\n 'audSpec_Rfilt_sma[11]_iqr2-3',\n 'audSpec_Rfilt_sma[11]_iqr1-3',\n 'audSpec_Rfilt_sma[11]_percentile1.0',\n 'audSpec_Rfilt_sma[11]_percentile99.0',\n 'audSpec_Rfilt_sma[11]_pctlrange0-1',\n 'audSpec_Rfilt_sma[11]_stddev',\n 'audSpec_Rfilt_sma[11]_skewness',\n 'audSpec_Rfilt_sma[11]_kurtosis',\n 'audSpec_Rfilt_sma[11]_meanSegLen',\n 'audSpec_Rfilt_sma[11]_maxSegLen',\n 'audSpec_Rfilt_sma[11]_minSegLen',\n 'audSpec_Rfilt_sma[11]_segLenStddev',\n 'audSpec_Rfilt_sma[11]_upleveltime25',\n 'audSpec_Rfilt_sma[11]_upleveltime50',\n 'audSpec_Rfilt_sma[11]_upleveltime75',\n 'audSpec_Rfilt_sma[11]_upleveltime90',\n 'audSpec_Rfilt_sma[11]_risetime',\n 'audSpec_Rfilt_sma[11]_leftctime',\n 'audSpec_Rfilt_sma[11]_lpgain',\n 'audSpec_Rfilt_sma[11]_lpc0',\n 'audSpec_Rfilt_sma[11]_lpc1',\n 'audSpec_Rfilt_sma[11]_lpc2',\n 'audSpec_Rfilt_sma[11]_lpc3',\n 'audSpec_Rfilt_sma[11]_lpc4',\n 'audSpec_Rfilt_sma[12]_range',\n 'audSpec_Rfilt_sma[12]_maxPos',\n 'audSpec_Rfilt_sma[12]_minPos',\n 'audSpec_Rfilt_sma[12]_quartile1',\n 'audSpec_Rfilt_sma[12]_quartile2',\n 'audSpec_Rfilt_sma[12]_quartile3',\n 'audSpec_Rfilt_sma[12]_iqr1-2',\n 'audSpec_Rfilt_sma[12]_iqr2-3',\n 'audSpec_Rfilt_sma[12]_iqr1-3',\n 'audSpec_Rfilt_sma[12]_percentile1.0',\n 'audSpec_Rfilt_sma[12]_percentile99.0',\n 'audSpec_Rfilt_sma[12]_pctlrange0-1',\n 'audSpec_Rfilt_sma[12]_stddev',\n 'audSpec_Rfilt_sma[12]_skewness',\n 'audSpec_Rfilt_sma[12]_kurtosis',\n 'audSpec_Rfilt_sma[12]_meanSegLen',\n 'audSpec_Rfilt_sma[12]_maxSegLen',\n 'audSpec_Rfilt_sma[12]_minSegLen',\n 'audSpec_Rfilt_sma[12]_segLenStddev',\n 'audSpec_Rfilt_sma[12]_upleveltime25',\n 'audSpec_Rfilt_sma[12]_upleveltime50',\n 'audSpec_Rfilt_sma[12]_upleveltime75',\n 'audSpec_Rfilt_sma[12]_upleveltime90',\n 'audSpec_Rfilt_sma[12]_risetime',\n 'audSpec_Rfilt_sma[12]_leftctime',\n 'audSpec_Rfilt_sma[12]_lpgain',\n 'audSpec_Rfilt_sma[12]_lpc0',\n 'audSpec_Rfilt_sma[12]_lpc1',\n 'audSpec_Rfilt_sma[12]_lpc2',\n 'audSpec_Rfilt_sma[12]_lpc3',\n 'audSpec_Rfilt_sma[12]_lpc4',\n 'audSpec_Rfilt_sma[13]_range',\n 'audSpec_Rfilt_sma[13]_maxPos',\n 'audSpec_Rfilt_sma[13]_minPos',\n 'audSpec_Rfilt_sma[13]_quartile1',\n 'audSpec_Rfilt_sma[13]_quartile2',\n 'audSpec_Rfilt_sma[13]_quartile3',\n 'audSpec_Rfilt_sma[13]_iqr1-2',\n 'audSpec_Rfilt_sma[13]_iqr2-3',\n 'audSpec_Rfilt_sma[13]_iqr1-3',\n 'audSpec_Rfilt_sma[13]_percentile1.0',\n 'audSpec_Rfilt_sma[13]_percentile99.0',\n 'audSpec_Rfilt_sma[13]_pctlrange0-1',\n 'audSpec_Rfilt_sma[13]_stddev',\n 'audSpec_Rfilt_sma[13]_skewness',\n 'audSpec_Rfilt_sma[13]_kurtosis',\n 'audSpec_Rfilt_sma[13]_meanSegLen',\n 'audSpec_Rfilt_sma[13]_maxSegLen',\n 'audSpec_Rfilt_sma[13]_minSegLen',\n 'audSpec_Rfilt_sma[13]_segLenStddev',\n 'audSpec_Rfilt_sma[13]_upleveltime25',\n 'audSpec_Rfilt_sma[13]_upleveltime50',\n 'audSpec_Rfilt_sma[13]_upleveltime75',\n 'audSpec_Rfilt_sma[13]_upleveltime90',\n 'audSpec_Rfilt_sma[13]_risetime',\n 'audSpec_Rfilt_sma[13]_leftctime',\n 'audSpec_Rfilt_sma[13]_lpgain',\n 'audSpec_Rfilt_sma[13]_lpc0',\n 'audSpec_Rfilt_sma[13]_lpc1',\n 'audSpec_Rfilt_sma[13]_lpc2',\n 'audSpec_Rfilt_sma[13]_lpc3',\n 'audSpec_Rfilt_sma[13]_lpc4',\n 'audSpec_Rfilt_sma[14]_range',\n 'audSpec_Rfilt_sma[14]_maxPos',\n 'audSpec_Rfilt_sma[14]_minPos',\n 'audSpec_Rfilt_sma[14]_quartile1',\n 'audSpec_Rfilt_sma[14]_quartile2',\n 'audSpec_Rfilt_sma[14]_quartile3',\n 'audSpec_Rfilt_sma[14]_iqr1-2',\n 'audSpec_Rfilt_sma[14]_iqr2-3',\n 'audSpec_Rfilt_sma[14]_iqr1-3',\n 'audSpec_Rfilt_sma[14]_percentile1.0',\n 'audSpec_Rfilt_sma[14]_percentile99.0',\n 'audSpec_Rfilt_sma[14]_pctlrange0-1',\n 'audSpec_Rfilt_sma[14]_stddev',\n 'audSpec_Rfilt_sma[14]_skewness',\n 'audSpec_Rfilt_sma[14]_kurtosis',\n 'audSpec_Rfilt_sma[14]_meanSegLen',\n 'audSpec_Rfilt_sma[14]_maxSegLen',\n 'audSpec_Rfilt_sma[14]_minSegLen',\n 'audSpec_Rfilt_sma[14]_segLenStddev',\n 'audSpec_Rfilt_sma[14]_upleveltime25',\n 'audSpec_Rfilt_sma[14]_upleveltime50',\n 'audSpec_Rfilt_sma[14]_upleveltime75',\n 'audSpec_Rfilt_sma[14]_upleveltime90',\n 'audSpec_Rfilt_sma[14]_risetime',\n 'audSpec_Rfilt_sma[14]_leftctime',\n 'audSpec_Rfilt_sma[14]_lpgain',\n 'audSpec_Rfilt_sma[14]_lpc0',\n 'audSpec_Rfilt_sma[14]_lpc1',\n 'audSpec_Rfilt_sma[14]_lpc2',\n 'audSpec_Rfilt_sma[14]_lpc3',\n 'audSpec_Rfilt_sma[14]_lpc4',\n 'audSpec_Rfilt_sma[15]_range',\n 'audSpec_Rfilt_sma[15]_maxPos',\n 'audSpec_Rfilt_sma[15]_minPos',\n 'audSpec_Rfilt_sma[15]_quartile1',\n 'audSpec_Rfilt_sma[15]_quartile2',\n 'audSpec_Rfilt_sma[15]_quartile3',\n 'audSpec_Rfilt_sma[15]_iqr1-2',\n 'audSpec_Rfilt_sma[15]_iqr2-3',\n 'audSpec_Rfilt_sma[15]_iqr1-3',\n 'audSpec_Rfilt_sma[15]_percentile1.0',\n 'audSpec_Rfilt_sma[15]_percentile99.0',\n 'audSpec_Rfilt_sma[15]_pctlrange0-1',\n 'audSpec_Rfilt_sma[15]_stddev',\n 'audSpec_Rfilt_sma[15]_skewness',\n 'audSpec_Rfilt_sma[15]_kurtosis',\n 'audSpec_Rfilt_sma[15]_meanSegLen',\n 'audSpec_Rfilt_sma[15]_maxSegLen',\n 'audSpec_Rfilt_sma[15]_minSegLen',\n 'audSpec_Rfilt_sma[15]_segLenStddev',\n 'audSpec_Rfilt_sma[15]_upleveltime25',\n 'audSpec_Rfilt_sma[15]_upleveltime50',\n 'audSpec_Rfilt_sma[15]_upleveltime75',\n 'audSpec_Rfilt_sma[15]_upleveltime90',\n 'audSpec_Rfilt_sma[15]_risetime',\n 'audSpec_Rfilt_sma[15]_leftctime',\n 'audSpec_Rfilt_sma[15]_lpgain',\n 'audSpec_Rfilt_sma[15]_lpc0',\n 'audSpec_Rfilt_sma[15]_lpc1',\n 'audSpec_Rfilt_sma[15]_lpc2',\n 'audSpec_Rfilt_sma[15]_lpc3',\n 'audSpec_Rfilt_sma[15]_lpc4',\n 'audSpec_Rfilt_sma[16]_range',\n 'audSpec_Rfilt_sma[16]_maxPos',\n 'audSpec_Rfilt_sma[16]_minPos',\n 'audSpec_Rfilt_sma[16]_quartile1',\n 'audSpec_Rfilt_sma[16]_quartile2',\n 'audSpec_Rfilt_sma[16]_quartile3',\n 'audSpec_Rfilt_sma[16]_iqr1-2',\n 'audSpec_Rfilt_sma[16]_iqr2-3',\n 'audSpec_Rfilt_sma[16]_iqr1-3',\n 'audSpec_Rfilt_sma[16]_percentile1.0',\n 'audSpec_Rfilt_sma[16]_percentile99.0',\n 'audSpec_Rfilt_sma[16]_pctlrange0-1',\n 'audSpec_Rfilt_sma[16]_stddev',\n 'audSpec_Rfilt_sma[16]_skewness',\n 'audSpec_Rfilt_sma[16]_kurtosis',\n 'audSpec_Rfilt_sma[16]_meanSegLen',\n 'audSpec_Rfilt_sma[16]_maxSegLen',\n 'audSpec_Rfilt_sma[16]_minSegLen',\n 'audSpec_Rfilt_sma[16]_segLenStddev',\n 'audSpec_Rfilt_sma[16]_upleveltime25',\n 'audSpec_Rfilt_sma[16]_upleveltime50',\n 'audSpec_Rfilt_sma[16]_upleveltime75',\n 'audSpec_Rfilt_sma[16]_upleveltime90',\n 'audSpec_Rfilt_sma[16]_risetime',\n 'audSpec_Rfilt_sma[16]_leftctime',\n 'audSpec_Rfilt_sma[16]_lpgain',\n 'audSpec_Rfilt_sma[16]_lpc0',\n 'audSpec_Rfilt_sma[16]_lpc1',\n 'audSpec_Rfilt_sma[16]_lpc2',\n 'audSpec_Rfilt_sma[16]_lpc3',\n 'audSpec_Rfilt_sma[16]_lpc4',\n 'audSpec_Rfilt_sma[17]_range',\n 'audSpec_Rfilt_sma[17]_maxPos',\n 'audSpec_Rfilt_sma[17]_minPos',\n 'audSpec_Rfilt_sma[17]_quartile1',\n 'audSpec_Rfilt_sma[17]_quartile2',\n 'audSpec_Rfilt_sma[17]_quartile3',\n 'audSpec_Rfilt_sma[17]_iqr1-2',\n 'audSpec_Rfilt_sma[17]_iqr2-3',\n 'audSpec_Rfilt_sma[17]_iqr1-3',\n 'audSpec_Rfilt_sma[17]_percentile1.0',\n 'audSpec_Rfilt_sma[17]_percentile99.0',\n 'audSpec_Rfilt_sma[17]_pctlrange0-1',\n 'audSpec_Rfilt_sma[17]_stddev',\n 'audSpec_Rfilt_sma[17]_skewness',\n 'audSpec_Rfilt_sma[17]_kurtosis',\n 'audSpec_Rfilt_sma[17]_meanSegLen',\n 'audSpec_Rfilt_sma[17]_maxSegLen',\n 'audSpec_Rfilt_sma[17]_minSegLen',\n 'audSpec_Rfilt_sma[17]_segLenStddev',\n 'audSpec_Rfilt_sma[17]_upleveltime25',\n 'audSpec_Rfilt_sma[17]_upleveltime50',\n 'audSpec_Rfilt_sma[17]_upleveltime75',\n 'audSpec_Rfilt_sma[17]_upleveltime90',\n 'audSpec_Rfilt_sma[17]_risetime',\n 'audSpec_Rfilt_sma[17]_leftctime',\n 'audSpec_Rfilt_sma[17]_lpgain',\n 'audSpec_Rfilt_sma[17]_lpc0',\n 'audSpec_Rfilt_sma[17]_lpc1',\n 'audSpec_Rfilt_sma[17]_lpc2',\n 'audSpec_Rfilt_sma[17]_lpc3',\n 'audSpec_Rfilt_sma[17]_lpc4',\n 'audSpec_Rfilt_sma[18]_range',\n 'audSpec_Rfilt_sma[18]_maxPos',\n 'audSpec_Rfilt_sma[18]_minPos',\n 'audSpec_Rfilt_sma[18]_quartile1',\n 'audSpec_Rfilt_sma[18]_quartile2',\n 'audSpec_Rfilt_sma[18]_quartile3',\n 'audSpec_Rfilt_sma[18]_iqr1-2',\n 'audSpec_Rfilt_sma[18]_iqr2-3',\n 'audSpec_Rfilt_sma[18]_iqr1-3',\n 'audSpec_Rfilt_sma[18]_percentile1.0',\n 'audSpec_Rfilt_sma[18]_percentile99.0',\n 'audSpec_Rfilt_sma[18]_pctlrange0-1',\n 'audSpec_Rfilt_sma[18]_stddev',\n 'audSpec_Rfilt_sma[18]_skewness',\n 'audSpec_Rfilt_sma[18]_kurtosis',\n 'audSpec_Rfilt_sma[18]_meanSegLen',\n 'audSpec_Rfilt_sma[18]_maxSegLen',\n 'audSpec_Rfilt_sma[18]_minSegLen',\n 'audSpec_Rfilt_sma[18]_segLenStddev',\n 'audSpec_Rfilt_sma[18]_upleveltime25',\n 'audSpec_Rfilt_sma[18]_upleveltime50',\n 'audSpec_Rfilt_sma[18]_upleveltime75',\n 'audSpec_Rfilt_sma[18]_upleveltime90',\n 'audSpec_Rfilt_sma[18]_risetime',\n 'audSpec_Rfilt_sma[18]_leftctime',\n 'audSpec_Rfilt_sma[18]_lpgain',\n 'audSpec_Rfilt_sma[18]_lpc0',\n 'audSpec_Rfilt_sma[18]_lpc1',\n 'audSpec_Rfilt_sma[18]_lpc2',\n 'audSpec_Rfilt_sma[18]_lpc3',\n 'audSpec_Rfilt_sma[18]_lpc4',\n 'audSpec_Rfilt_sma[19]_range',\n 'audSpec_Rfilt_sma[19]_maxPos',\n 'audSpec_Rfilt_sma[19]_minPos',\n 'audSpec_Rfilt_sma[19]_quartile1',\n 'audSpec_Rfilt_sma[19]_quartile2',\n 'audSpec_Rfilt_sma[19]_quartile3',\n 'audSpec_Rfilt_sma[19]_iqr1-2',\n 'audSpec_Rfilt_sma[19]_iqr2-3',\n 'audSpec_Rfilt_sma[19]_iqr1-3',\n 'audSpec_Rfilt_sma[19]_percentile1.0',\n 'audSpec_Rfilt_sma[19]_percentile99.0',\n 'audSpec_Rfilt_sma[19]_pctlrange0-1',\n 'audSpec_Rfilt_sma[19]_stddev',\n 'audSpec_Rfilt_sma[19]_skewness',\n 'audSpec_Rfilt_sma[19]_kurtosis',\n 'audSpec_Rfilt_sma[19]_meanSegLen',\n 'audSpec_Rfilt_sma[19]_maxSegLen',\n 'audSpec_Rfilt_sma[19]_minSegLen',\n 'audSpec_Rfilt_sma[19]_segLenStddev',\n 'audSpec_Rfilt_sma[19]_upleveltime25',\n 'audSpec_Rfilt_sma[19]_upleveltime50',\n 'audSpec_Rfilt_sma[19]_upleveltime75',\n 'audSpec_Rfilt_sma[19]_upleveltime90',\n 'audSpec_Rfilt_sma[19]_risetime',\n 'audSpec_Rfilt_sma[19]_leftctime',\n 'audSpec_Rfilt_sma[19]_lpgain',\n 'audSpec_Rfilt_sma[19]_lpc0',\n 'audSpec_Rfilt_sma[19]_lpc1',\n 'audSpec_Rfilt_sma[19]_lpc2',\n 'audSpec_Rfilt_sma[19]_lpc3',\n 'audSpec_Rfilt_sma[19]_lpc4',\n 'audSpec_Rfilt_sma[20]_range',\n 'audSpec_Rfilt_sma[20]_maxPos',\n 'audSpec_Rfilt_sma[20]_minPos',\n 'audSpec_Rfilt_sma[20]_quartile1',\n 'audSpec_Rfilt_sma[20]_quartile2',\n 'audSpec_Rfilt_sma[20]_quartile3',\n 'audSpec_Rfilt_sma[20]_iqr1-2',\n 'audSpec_Rfilt_sma[20]_iqr2-3',\n 'audSpec_Rfilt_sma[20]_iqr1-3',\n 'audSpec_Rfilt_sma[20]_percentile1.0',\n 'audSpec_Rfilt_sma[20]_percentile99.0',\n 'audSpec_Rfilt_sma[20]_pctlrange0-1',\n 'audSpec_Rfilt_sma[20]_stddev',\n 'audSpec_Rfilt_sma[20]_skewness',\n 'audSpec_Rfilt_sma[20]_kurtosis',\n 'audSpec_Rfilt_sma[20]_meanSegLen',\n 'audSpec_Rfilt_sma[20]_maxSegLen',\n 'audSpec_Rfilt_sma[20]_minSegLen',\n 'audSpec_Rfilt_sma[20]_segLenStddev',\n 'audSpec_Rfilt_sma[20]_upleveltime25',\n 'audSpec_Rfilt_sma[20]_upleveltime50',\n 'audSpec_Rfilt_sma[20]_upleveltime75',\n 'audSpec_Rfilt_sma[20]_upleveltime90',\n 'audSpec_Rfilt_sma[20]_risetime',\n 'audSpec_Rfilt_sma[20]_leftctime',\n 'audSpec_Rfilt_sma[20]_lpgain',\n 'audSpec_Rfilt_sma[20]_lpc0',\n 'audSpec_Rfilt_sma[20]_lpc1',\n 'audSpec_Rfilt_sma[20]_lpc2',\n 'audSpec_Rfilt_sma[20]_lpc3',\n 'audSpec_Rfilt_sma[20]_lpc4',\n 'audSpec_Rfilt_sma[21]_range',\n 'audSpec_Rfilt_sma[21]_maxPos',\n 'audSpec_Rfilt_sma[21]_minPos',\n 'audSpec_Rfilt_sma[21]_quartile1',\n 'audSpec_Rfilt_sma[21]_quartile2',\n 'audSpec_Rfilt_sma[21]_quartile3',\n 'audSpec_Rfilt_sma[21]_iqr1-2',\n 'audSpec_Rfilt_sma[21]_iqr2-3',\n 'audSpec_Rfilt_sma[21]_iqr1-3',\n 'audSpec_Rfilt_sma[21]_percentile1.0',\n 'audSpec_Rfilt_sma[21]_percentile99.0',\n 'audSpec_Rfilt_sma[21]_pctlrange0-1',\n 'audSpec_Rfilt_sma[21]_stddev',\n 'audSpec_Rfilt_sma[21]_skewness',\n 'audSpec_Rfilt_sma[21]_kurtosis',\n 'audSpec_Rfilt_sma[21]_meanSegLen',\n 'audSpec_Rfilt_sma[21]_maxSegLen',\n 'audSpec_Rfilt_sma[21]_minSegLen',\n 'audSpec_Rfilt_sma[21]_segLenStddev',\n 'audSpec_Rfilt_sma[21]_upleveltime25',\n 'audSpec_Rfilt_sma[21]_upleveltime50',\n 'audSpec_Rfilt_sma[21]_upleveltime75',\n 'audSpec_Rfilt_sma[21]_upleveltime90',\n 'audSpec_Rfilt_sma[21]_risetime',\n 'audSpec_Rfilt_sma[21]_leftctime',\n 'audSpec_Rfilt_sma[21]_lpgain',\n 'audSpec_Rfilt_sma[21]_lpc0',\n 'audSpec_Rfilt_sma[21]_lpc1',\n 'audSpec_Rfilt_sma[21]_lpc2',\n 'audSpec_Rfilt_sma[21]_lpc3',\n 'audSpec_Rfilt_sma[21]_lpc4',\n 'audSpec_Rfilt_sma[22]_range',\n 'audSpec_Rfilt_sma[22]_maxPos',\n 'audSpec_Rfilt_sma[22]_minPos',\n 'audSpec_Rfilt_sma[22]_quartile1',\n 'audSpec_Rfilt_sma[22]_quartile2',\n 'audSpec_Rfilt_sma[22]_quartile3',\n 'audSpec_Rfilt_sma[22]_iqr1-2',\n 'audSpec_Rfilt_sma[22]_iqr2-3',\n 'audSpec_Rfilt_sma[22]_iqr1-3',\n 'audSpec_Rfilt_sma[22]_percentile1.0',\n 'audSpec_Rfilt_sma[22]_percentile99.0',\n 'audSpec_Rfilt_sma[22]_pctlrange0-1',\n 'audSpec_Rfilt_sma[22]_stddev',\n 'audSpec_Rfilt_sma[22]_skewness',\n 'audSpec_Rfilt_sma[22]_kurtosis',\n 'audSpec_Rfilt_sma[22]_meanSegLen',\n 'audSpec_Rfilt_sma[22]_maxSegLen',\n 'audSpec_Rfilt_sma[22]_minSegLen',\n 'audSpec_Rfilt_sma[22]_segLenStddev',\n 'audSpec_Rfilt_sma[22]_upleveltime25',\n 'audSpec_Rfilt_sma[22]_upleveltime50',\n 'audSpec_Rfilt_sma[22]_upleveltime75',\n 'audSpec_Rfilt_sma[22]_upleveltime90',\n 'audSpec_Rfilt_sma[22]_risetime',\n 'audSpec_Rfilt_sma[22]_leftctime',\n 'audSpec_Rfilt_sma[22]_lpgain',\n 'audSpec_Rfilt_sma[22]_lpc0',\n 'audSpec_Rfilt_sma[22]_lpc1',\n 'audSpec_Rfilt_sma[22]_lpc2',\n 'audSpec_Rfilt_sma[22]_lpc3',\n 'audSpec_Rfilt_sma[22]_lpc4',\n 'audSpec_Rfilt_sma[23]_range',\n 'audSpec_Rfilt_sma[23]_maxPos',\n 'audSpec_Rfilt_sma[23]_minPos',\n 'audSpec_Rfilt_sma[23]_quartile1',\n 'audSpec_Rfilt_sma[23]_quartile2',\n 'audSpec_Rfilt_sma[23]_quartile3',\n 'audSpec_Rfilt_sma[23]_iqr1-2',\n 'audSpec_Rfilt_sma[23]_iqr2-3',\n 'audSpec_Rfilt_sma[23]_iqr1-3',\n 'audSpec_Rfilt_sma[23]_percentile1.0',\n 'audSpec_Rfilt_sma[23]_percentile99.0',\n 'audSpec_Rfilt_sma[23]_pctlrange0-1',\n 'audSpec_Rfilt_sma[23]_stddev',\n 'audSpec_Rfilt_sma[23]_skewness',\n 'audSpec_Rfilt_sma[23]_kurtosis',\n 'audSpec_Rfilt_sma[23]_meanSegLen',\n 'audSpec_Rfilt_sma[23]_maxSegLen',\n 'audSpec_Rfilt_sma[23]_minSegLen',\n 'audSpec_Rfilt_sma[23]_segLenStddev',\n 'audSpec_Rfilt_sma[23]_upleveltime25',\n 'audSpec_Rfilt_sma[23]_upleveltime50',\n 'audSpec_Rfilt_sma[23]_upleveltime75',\n 'audSpec_Rfilt_sma[23]_upleveltime90',\n 'audSpec_Rfilt_sma[23]_risetime',\n 'audSpec_Rfilt_sma[23]_leftctime',\n 'audSpec_Rfilt_sma[23]_lpgain',\n 'audSpec_Rfilt_sma[23]_lpc0',\n 'audSpec_Rfilt_sma[23]_lpc1',\n 'audSpec_Rfilt_sma[23]_lpc2',\n 'audSpec_Rfilt_sma[23]_lpc3',\n 'audSpec_Rfilt_sma[23]_lpc4',\n 'audSpec_Rfilt_sma[24]_range',\n 'audSpec_Rfilt_sma[24]_maxPos',\n 'audSpec_Rfilt_sma[24]_minPos',\n 'audSpec_Rfilt_sma[24]_quartile1',\n 'audSpec_Rfilt_sma[24]_quartile2',\n 'audSpec_Rfilt_sma[24]_quartile3',\n 'audSpec_Rfilt_sma[24]_iqr1-2',\n 'audSpec_Rfilt_sma[24]_iqr2-3',\n ...]"
     },
     "execution_count": 1,
     "metadata": {},
     "output_type": "execute_result"
    }
   ],
   "source": [
    "import opensmile\n",
    "\n",
    "smile = opensmile.Smile(\n",
    "    feature_set=opensmile.FeatureSet.ComParE_2016,\n",
    "    feature_level=opensmile.FeatureLevel.Functionals,\n",
    "    num_workers=4,\n",
    "    multiprocessing=True\n",
    ")\n",
    "smile.feature_names\n"
   ],
   "metadata": {
    "collapsed": false,
    "pycharm": {
     "name": "#%%\n"
    }
   }
  },
  {
   "cell_type": "code",
   "execution_count": 2,
   "outputs": [],
   "source": [
    "with open(\"C:\\\\Users\\\\nicor\\\\OneDrive\\\\Desktop\\\\feat.txt\", \"w\") as feat:\n",
    "    for feats in smile.feature_names:\n",
    "        feat.write(feats+\"\\n\")\n"
   ],
   "metadata": {
    "collapsed": false,
    "pycharm": {
     "name": "#%%\n"
    }
   }
  },
  {
   "cell_type": "code",
   "execution_count": 1,
   "outputs": [
    {
     "name": "stderr",
     "output_type": "stream",
     "text": [
      "The torchaudio backend is switched to 'soundfile'. Note that 'sox_io' is not supported on Windows.\n",
      "The torchaudio backend is switched to 'soundfile'. Note that 'sox_io' is not supported on Windows.\n"
     ]
    }
   ],
   "source": [
    "from modules.Features import AudioFeature"
   ],
   "metadata": {
    "collapsed": false,
    "pycharm": {
     "name": "#%%\n"
    }
   }
  },
  {
   "cell_type": "code",
   "execution_count": 2,
   "outputs": [],
   "source": [
    "feat = AudioFeature()\n",
    "prosody = feat.Prosody()\n",
    "turn = feat.TurnTaking()"
   ],
   "metadata": {
    "collapsed": false,
    "pycharm": {
     "name": "#%%\n"
    }
   }
  },
  {
   "cell_type": "code",
   "execution_count": 3,
   "outputs": [],
   "source": [
    "df_1 = prosody(path=\"E:\\\\PhD\\\\Data\\\\audio\\\\segmented\\\\ami\\\\ami_IB4001.Mix-Headset_0090.wav\",\n",
    "               sr=44100,\n",
    "               frame_length=220500,\n",
    "               hop_factor=176400)\n",
    "df_2 = turn(path=\"E:\\\\PhD\\\\Data\\\\audio\\\\segmented\\\\ami\\\\ami_IB4001.Mix-Headset_0090.wav\")"
   ],
   "metadata": {
    "collapsed": false,
    "pycharm": {
     "name": "#%%\n"
    }
   }
  },
  {
   "cell_type": "code",
   "execution_count": 4,
   "outputs": [
    {
     "data": {
      "text/plain": "                             Duration_vad   Silence  Speech ratio  \\\nFile                                                                \nami_IB4001.Mix-Headset_0090      0.472500  4.527500      0.104362   \nami_IB4001.Mix-Headset_0090      1.265625  3.734375      0.338912   \nami_IB4001.Mix-Headset_0090      1.586250  3.413750      0.464665   \nami_IB4001.Mix-Headset_0090      2.311875  2.688125      0.860033   \n\n                             Duration_ovd  pcm_RMSenergy_sma_stddev  \\\nFile                                                                  \nami_IB4001.Mix-Headset_0090           NaN                  0.007373   \nami_IB4001.Mix-Headset_0090           NaN                  0.036497   \nami_IB4001.Mix-Headset_0090           NaN                  0.042565   \nami_IB4001.Mix-Headset_0090           NaN                  0.029417   \n\n                             pcm_RMSenergy_sma_skewness  \\\nFile                                                      \nami_IB4001.Mix-Headset_0090                    4.354617   \nami_IB4001.Mix-Headset_0090                    2.456583   \nami_IB4001.Mix-Headset_0090                    1.013525   \nami_IB4001.Mix-Headset_0090                    1.599265   \n\n                             pcm_RMSenergy_sma_kurtosis  \\\nFile                                                      \nami_IB4001.Mix-Headset_0090                   21.719030   \nami_IB4001.Mix-Headset_0090                    8.932084   \nami_IB4001.Mix-Headset_0090                    3.300594   \nami_IB4001.Mix-Headset_0090                    4.950202   \n\n                             pcm_RMSenergy_sma_meanSegLen  pcm_zcr_sma_stddev  \\\nFile                                                                            \nami_IB4001.Mix-Headset_0090                      0.153333            0.034592   \nami_IB4001.Mix-Headset_0090                      0.469000            0.036998   \nami_IB4001.Mix-Headset_0090                      0.223636            0.034958   \nami_IB4001.Mix-Headset_0090                      0.143750            0.467047   \n\n                             pcm_zcr_sma_skewness  ...  mfcc_sma[5]_amean  \\\nFile                                               ...                      \nami_IB4001.Mix-Headset_0090              4.975715  ...           5.198359   \nami_IB4001.Mix-Headset_0090              3.367814  ...           6.607509   \nami_IB4001.Mix-Headset_0090              4.041352  ...           6.441465   \nami_IB4001.Mix-Headset_0090              0.498063  ...           4.450499   \n\n                             mfcc_sma[6]_amean  mfcc_sma[7]_amean  \\\nFile                                                                \nami_IB4001.Mix-Headset_0090           8.813556           5.877438   \nami_IB4001.Mix-Headset_0090           3.864108           4.750905   \nami_IB4001.Mix-Headset_0090          -3.575371          -1.805267   \nami_IB4001.Mix-Headset_0090           1.018723          -0.739599   \n\n                             mfcc_sma[8]_amean  mfcc_sma[9]_amean  \\\nFile                                                                \nami_IB4001.Mix-Headset_0090           7.636839           3.027328   \nami_IB4001.Mix-Headset_0090          11.003022          -0.510899   \nami_IB4001.Mix-Headset_0090          10.635875           0.941865   \nami_IB4001.Mix-Headset_0090           2.706993          -1.581273   \n\n                             mfcc_sma[10]_amean  mfcc_sma[11]_amean  \\\nFile                                                                  \nami_IB4001.Mix-Headset_0090            3.332255            4.165841   \nami_IB4001.Mix-Headset_0090           10.738640            4.493219   \nami_IB4001.Mix-Headset_0090           13.592336            5.158501   \nami_IB4001.Mix-Headset_0090            7.360752            5.382579   \n\n                             mfcc_sma[12]_amean  mfcc_sma[13]_amean  \\\nFile                                                                  \nami_IB4001.Mix-Headset_0090            8.786039            6.073684   \nami_IB4001.Mix-Headset_0090            5.256584            5.337809   \nami_IB4001.Mix-Headset_0090           -7.348094            0.080264   \nami_IB4001.Mix-Headset_0090           -0.888997           -1.764661   \n\n                             mfcc_sma[14]_amean  \nFile                                             \nami_IB4001.Mix-Headset_0090            8.286960  \nami_IB4001.Mix-Headset_0090            4.967577  \nami_IB4001.Mix-Headset_0090            1.826506  \nami_IB4001.Mix-Headset_0090            0.943435  \n\n[4 rows x 169 columns]",
      "text/html": "<div>\n<style scoped>\n    .dataframe tbody tr th:only-of-type {\n        vertical-align: middle;\n    }\n\n    .dataframe tbody tr th {\n        vertical-align: top;\n    }\n\n    .dataframe thead th {\n        text-align: right;\n    }\n</style>\n<table border=\"1\" class=\"dataframe\">\n  <thead>\n    <tr style=\"text-align: right;\">\n      <th></th>\n      <th>Duration_vad</th>\n      <th>Silence</th>\n      <th>Speech ratio</th>\n      <th>Duration_ovd</th>\n      <th>pcm_RMSenergy_sma_stddev</th>\n      <th>pcm_RMSenergy_sma_skewness</th>\n      <th>pcm_RMSenergy_sma_kurtosis</th>\n      <th>pcm_RMSenergy_sma_meanSegLen</th>\n      <th>pcm_zcr_sma_stddev</th>\n      <th>pcm_zcr_sma_skewness</th>\n      <th>...</th>\n      <th>mfcc_sma[5]_amean</th>\n      <th>mfcc_sma[6]_amean</th>\n      <th>mfcc_sma[7]_amean</th>\n      <th>mfcc_sma[8]_amean</th>\n      <th>mfcc_sma[9]_amean</th>\n      <th>mfcc_sma[10]_amean</th>\n      <th>mfcc_sma[11]_amean</th>\n      <th>mfcc_sma[12]_amean</th>\n      <th>mfcc_sma[13]_amean</th>\n      <th>mfcc_sma[14]_amean</th>\n    </tr>\n    <tr>\n      <th>File</th>\n      <th></th>\n      <th></th>\n      <th></th>\n      <th></th>\n      <th></th>\n      <th></th>\n      <th></th>\n      <th></th>\n      <th></th>\n      <th></th>\n      <th></th>\n      <th></th>\n      <th></th>\n      <th></th>\n      <th></th>\n      <th></th>\n      <th></th>\n      <th></th>\n      <th></th>\n      <th></th>\n      <th></th>\n    </tr>\n  </thead>\n  <tbody>\n    <tr>\n      <th>ami_IB4001.Mix-Headset_0090</th>\n      <td>0.472500</td>\n      <td>4.527500</td>\n      <td>0.104362</td>\n      <td>NaN</td>\n      <td>0.007373</td>\n      <td>4.354617</td>\n      <td>21.719030</td>\n      <td>0.153333</td>\n      <td>0.034592</td>\n      <td>4.975715</td>\n      <td>...</td>\n      <td>5.198359</td>\n      <td>8.813556</td>\n      <td>5.877438</td>\n      <td>7.636839</td>\n      <td>3.027328</td>\n      <td>3.332255</td>\n      <td>4.165841</td>\n      <td>8.786039</td>\n      <td>6.073684</td>\n      <td>8.286960</td>\n    </tr>\n    <tr>\n      <th>ami_IB4001.Mix-Headset_0090</th>\n      <td>1.265625</td>\n      <td>3.734375</td>\n      <td>0.338912</td>\n      <td>NaN</td>\n      <td>0.036497</td>\n      <td>2.456583</td>\n      <td>8.932084</td>\n      <td>0.469000</td>\n      <td>0.036998</td>\n      <td>3.367814</td>\n      <td>...</td>\n      <td>6.607509</td>\n      <td>3.864108</td>\n      <td>4.750905</td>\n      <td>11.003022</td>\n      <td>-0.510899</td>\n      <td>10.738640</td>\n      <td>4.493219</td>\n      <td>5.256584</td>\n      <td>5.337809</td>\n      <td>4.967577</td>\n    </tr>\n    <tr>\n      <th>ami_IB4001.Mix-Headset_0090</th>\n      <td>1.586250</td>\n      <td>3.413750</td>\n      <td>0.464665</td>\n      <td>NaN</td>\n      <td>0.042565</td>\n      <td>1.013525</td>\n      <td>3.300594</td>\n      <td>0.223636</td>\n      <td>0.034958</td>\n      <td>4.041352</td>\n      <td>...</td>\n      <td>6.441465</td>\n      <td>-3.575371</td>\n      <td>-1.805267</td>\n      <td>10.635875</td>\n      <td>0.941865</td>\n      <td>13.592336</td>\n      <td>5.158501</td>\n      <td>-7.348094</td>\n      <td>0.080264</td>\n      <td>1.826506</td>\n    </tr>\n    <tr>\n      <th>ami_IB4001.Mix-Headset_0090</th>\n      <td>2.311875</td>\n      <td>2.688125</td>\n      <td>0.860033</td>\n      <td>NaN</td>\n      <td>0.029417</td>\n      <td>1.599265</td>\n      <td>4.950202</td>\n      <td>0.143750</td>\n      <td>0.467047</td>\n      <td>0.498063</td>\n      <td>...</td>\n      <td>4.450499</td>\n      <td>1.018723</td>\n      <td>-0.739599</td>\n      <td>2.706993</td>\n      <td>-1.581273</td>\n      <td>7.360752</td>\n      <td>5.382579</td>\n      <td>-0.888997</td>\n      <td>-1.764661</td>\n      <td>0.943435</td>\n    </tr>\n  </tbody>\n</table>\n<p>4 rows × 169 columns</p>\n</div>"
     },
     "execution_count": 4,
     "metadata": {},
     "output_type": "execute_result"
    }
   ],
   "source": [
    "df = feat(df_2, df_1)\n",
    "df"
   ],
   "metadata": {
    "collapsed": false,
    "pycharm": {
     "name": "#%%\n"
    }
   }
  },
  {
   "cell_type": "code",
   "execution_count": null,
   "outputs": [],
   "source": [],
   "metadata": {
    "collapsed": false,
    "pycharm": {
     "name": "#%%\n"
    }
   }
  },
  {
   "cell_type": "code",
   "execution_count": 109,
   "metadata": {
    "pycharm": {
     "name": "#%%\n"
    }
   },
   "outputs": [],
   "source": [
    "postprocessed_df = pd.DataFrame(index=time_samples)\n",
    "for start, end in zip(vad.Start, vad.End):\n",
    "    for i in range(len(time_samples)):\n",
    "        if start in time_samples[i]:\n",
    "            postprocessed_df.loc[time_samples[i], 'Start'] = start\n",
    "            postprocessed_df.loc[time_samples[i], 'End'] = time_samples[i].right\n",
    "        else:\n",
    "            postprocessed_df.loc[time_samples[i], 'Start'] = 0\n",
    "        if end in time_samples[i]:\n",
    "            postprocessed_df.loc[time_samples[i], 'Start'] = time_samples[i].left\n",
    "            postprocessed_df.loc[time_samples[i], 'End'] = end\n",
    "        else:\n",
    "            postprocessed_df.loc[time_samples[i], 'End'] = 0"
   ]
  },
  {
   "cell_type": "code",
   "execution_count": 107,
   "metadata": {
    "pycharm": {
     "name": "#%%\n"
    }
   },
   "outputs": [
    {
     "data": {
      "text/html": [
       "<div>\n",
       "<style scoped>\n",
       "    .dataframe tbody tr th:only-of-type {\n",
       "        vertical-align: middle;\n",
       "    }\n",
       "\n",
       "    .dataframe tbody tr th {\n",
       "        vertical-align: top;\n",
       "    }\n",
       "\n",
       "    .dataframe thead th {\n",
       "        text-align: right;\n",
       "    }\n",
       "</style>\n",
       "<table border=\"1\" class=\"dataframe\">\n",
       "  <thead>\n",
       "    <tr style=\"text-align: right;\">\n",
       "      <th></th>\n",
       "      <th>Start</th>\n",
       "      <th>End</th>\n",
       "    </tr>\n",
       "  </thead>\n",
       "  <tbody>\n",
       "    <tr>\n",
       "      <th>(0, 5]</th>\n",
       "      <td>0.000000</td>\n",
       "      <td>NaN</td>\n",
       "    </tr>\n",
       "    <tr>\n",
       "      <th>(4, 9]</th>\n",
       "      <td>0.000000</td>\n",
       "      <td>NaN</td>\n",
       "    </tr>\n",
       "    <tr>\n",
       "      <th>(5, 10]</th>\n",
       "      <td>0.000000</td>\n",
       "      <td>NaN</td>\n",
       "    </tr>\n",
       "    <tr>\n",
       "      <th>(9, 14]</th>\n",
       "      <td>11.365313</td>\n",
       "      <td>14.0</td>\n",
       "    </tr>\n",
       "    <tr>\n",
       "      <th>(10, 15]</th>\n",
       "      <td>11.365313</td>\n",
       "      <td>15.0</td>\n",
       "    </tr>\n",
       "  </tbody>\n",
       "</table>\n",
       "</div>"
      ],
      "text/plain": [
       "              Start   End\n",
       "(0, 5]     0.000000   NaN\n",
       "(4, 9]     0.000000   NaN\n",
       "(5, 10]    0.000000   NaN\n",
       "(9, 14]   11.365313  14.0\n",
       "(10, 15]  11.365313  15.0"
      ]
     },
     "execution_count": 107,
     "metadata": {},
     "output_type": "execute_result"
    }
   ],
   "source": [
    "postprocessed_df"
   ]
  },
  {
   "cell_type": "code",
   "execution_count": 13,
   "metadata": {
    "pycharm": {
     "name": "#%%\n"
    }
   },
   "outputs": [],
   "source": [
    "import librosa as lb\n",
    "\n",
    "stream = lb.stream(\"/mnt/f/PhD/_Segments/Segmented15s/.selected_audio/ami/IB4001.Mix-Headset_0091.wav\", block_length=1, mono=True, frame_length=220500, hop_length=176400, fill_value=0)"
   ]
  },
  {
   "cell_type": "code",
   "execution_count": 14,
   "metadata": {
    "pycharm": {
     "name": "#%%\n"
    }
   },
   "outputs": [
    {
     "name": "stdout",
     "output_type": "stream",
     "text": [
      "[ 0.00265503  0.00195312  0.00183105 ...  0.01715088  0.00341797\n",
      " -0.01165771]\n",
      "[-0.00064087 -0.00061035 -0.00048828 ... -0.00430298  0.00073242\n",
      "  0.00872803]\n",
      "[ 7.9345703e-03  9.0637207e-03  1.0803223e-02 ...  4.5776367e-04\n",
      "  6.1035156e-05 -3.0517578e-04]\n",
      "[0.00646973 0.0065918  0.00665283 ... 0.         0.         0.        ]\n"
     ]
    }
   ],
   "source": [
    "for block in stream:\n",
    "    print(block)\n",
    "    \n"
   ]
  },
  {
   "cell_type": "code",
   "execution_count": 27,
   "metadata": {
    "pycharm": {
     "name": "#%%\n"
    }
   },
   "outputs": [],
   "source": [
    "import matplotlib.pyplot as plt\n",
    "%matplotlib inline"
   ]
  }
 ],
 "metadata": {
  "kernelspec": {
   "display_name": "Python 3",
   "language": "python",
   "name": "python3"
  },
  "language_info": {
   "codemirror_mode": {
    "name": "ipython",
    "version": 3
   },
   "file_extension": ".py",
   "mimetype": "text/x-python",
   "name": "python",
   "nbconvert_exporter": "python",
   "pygments_lexer": "ipython3",
   "version": "3.8.13"
  }
 },
 "nbformat": 4,
 "nbformat_minor": 0
}